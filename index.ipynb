{
 "cells": [
  {
   "cell_type": "markdown",
   "metadata": {},
   "source": [
    "# Properties of Dot Product - Lab\n",
    "\n",
    "## Introduction\n",
    "\n",
    "In this lab, you'll be practicing some interesting properties of a Dot Product-type matrix multiplication. Understanding these properties will become useful as you move forward with machine learning. The lab will require you to calculate results to provide a proof for these properties.\n",
    "\n",
    "## Objectives\n",
    "You will be able to:\n",
    "* Understand and analytically explain Distributive, Commutative and Associative properties of dot product\n",
    "\n",
    "## Instructions\n",
    "\n",
    "* For each property, create suitably sized matrices with random data and prove the equations \n",
    "* Ensure that size/dimension assumptions are met while performing calculations (you'll see errors otherwise)\n",
    "* Calculate the LHS and RHS for all equations and show if they are equal or not\n",
    "\n",
    "## Distributive Property - matrix multiplication is distributive\n",
    "\n",
    "### Prove that $A \\cdot (B+C) = (A \\cdot B + A \\cdot C) $"
   ]
  },
  {
   "cell_type": "code",
   "execution_count": 2,
   "metadata": {},
   "outputs": [],
   "source": [
    "# Your code here\n",
    "import numpy as np\n",
    "A = np.array([[1,2], [3,4], [5,6]])\n",
    "B = np.array([[1,2,3],[4,5,6]])\n",
    "C = np.array([[7,6,5],[2,3,4]])"
   ]
  },
  {
   "cell_type": "code",
   "execution_count": 3,
   "metadata": {},
   "outputs": [
    {
     "data": {
      "text/plain": [
       "array([[ 20,  24,  28],\n",
       "       [ 48,  56,  64],\n",
       "       [ 76,  88, 100]])"
      ]
     },
     "execution_count": 3,
     "metadata": {},
     "output_type": "execute_result"
    }
   ],
   "source": [
    "A.dot(B+C)"
   ]
  },
  {
   "cell_type": "code",
   "execution_count": 4,
   "metadata": {},
   "outputs": [
    {
     "data": {
      "text/plain": [
       "array([[ 20,  24,  28],\n",
       "       [ 48,  56,  64],\n",
       "       [ 76,  88, 100]])"
      ]
     },
     "execution_count": 4,
     "metadata": {},
     "output_type": "execute_result"
    }
   ],
   "source": [
    "A.dot(B) + A.dot(C)"
   ]
  },
  {
   "cell_type": "markdown",
   "metadata": {},
   "source": [
    "## Associative Property - matrix multiplication is associative\n",
    "### Prove that $A \\cdot (B \\cdot C) = (A \\cdot B) \\cdot C $"
   ]
  },
  {
   "cell_type": "code",
   "execution_count": 18,
   "metadata": {},
   "outputs": [],
   "source": [
    "# Your code here \n",
    "A = np.array([[1,2], [3,4]])\n",
    "B = np.array([[1,2],[4,5]])\n",
    "C = np.array([[4,5],[6,7]])"
   ]
  },
  {
   "cell_type": "code",
   "execution_count": 19,
   "metadata": {},
   "outputs": [
    {
     "data": {
      "text/plain": [
       "array([[108, 129],\n",
       "       [232, 277]])"
      ]
     },
     "execution_count": 19,
     "metadata": {},
     "output_type": "execute_result"
    }
   ],
   "source": [
    "D = B.dot(C)\n",
    "A.dot(D)"
   ]
  },
  {
   "cell_type": "code",
   "execution_count": 20,
   "metadata": {},
   "outputs": [
    {
     "data": {
      "text/plain": [
       "array([[131, 178],\n",
       "       [187, 254]])"
      ]
     },
     "execution_count": 20,
     "metadata": {},
     "output_type": "execute_result"
    }
   ],
   "source": [
    "E = A.dot(B)\n",
    "C.dot(E)"
   ]
  },
  {
   "cell_type": "markdown",
   "metadata": {},
   "source": [
    "## Commutative Property - matrix multiplication is NOT commutative\n",
    "### Prove that for matrices, $A \\cdot B \\neq B \\cdot A $"
   ]
  },
  {
   "cell_type": "code",
   "execution_count": 21,
   "metadata": {},
   "outputs": [],
   "source": [
    "# Your code here \n",
    "A = np.array([[1,2], [3,4]])\n",
    "B = np.array([[1,2],[4,5]])"
   ]
  },
  {
   "cell_type": "code",
   "execution_count": 22,
   "metadata": {},
   "outputs": [
    {
     "data": {
      "text/plain": [
       "array([[ 9, 12],\n",
       "       [19, 26]])"
      ]
     },
     "execution_count": 22,
     "metadata": {},
     "output_type": "execute_result"
    }
   ],
   "source": [
    "A.dot(B)"
   ]
  },
  {
   "cell_type": "code",
   "execution_count": 23,
   "metadata": {},
   "outputs": [
    {
     "data": {
      "text/plain": [
       "array([[ 7, 10],\n",
       "       [19, 28]])"
      ]
     },
     "execution_count": 23,
     "metadata": {},
     "output_type": "execute_result"
    }
   ],
   "source": [
    "B.dot(A)"
   ]
  },
  {
   "cell_type": "markdown",
   "metadata": {},
   "source": [
    "## Commutative Property -  vector multiplication IS commutative\n",
    "### Prove that for vectors,  $x^T \\cdot y = y^T \\cdot x$\n",
    "Note: superscipt<sup>T</sup> denotes the transpose we saw earlier"
   ]
  },
  {
   "cell_type": "code",
   "execution_count": 24,
   "metadata": {},
   "outputs": [],
   "source": [
    "# Your code here \n",
    "x = [1,2,3,4]\n",
    "y = [5,6,3,4]\n"
   ]
  },
  {
   "cell_type": "code",
   "execution_count": 28,
   "metadata": {},
   "outputs": [
    {
     "data": {
      "text/plain": [
       "42"
      ]
     },
     "execution_count": 28,
     "metadata": {},
     "output_type": "execute_result"
    }
   ],
   "source": [
    "np.transpose(x).dot(y)"
   ]
  },
  {
   "cell_type": "code",
   "execution_count": 29,
   "metadata": {},
   "outputs": [
    {
     "data": {
      "text/plain": [
       "42"
      ]
     },
     "execution_count": 29,
     "metadata": {},
     "output_type": "execute_result"
    }
   ],
   "source": [
    "np.transpose(y).dot(x)"
   ]
  },
  {
   "cell_type": "markdown",
   "metadata": {},
   "source": [
    "## Simplification of the matrix product\n",
    "### Prove that $ (A \\cdot B)^T = B^T \\cdot A^T $"
   ]
  },
  {
   "cell_type": "code",
   "execution_count": 31,
   "metadata": {},
   "outputs": [
    {
     "data": {
      "text/plain": [
       "array([[12, 39],\n",
       "       [15, 48]])"
      ]
     },
     "execution_count": 31,
     "metadata": {},
     "output_type": "execute_result"
    }
   ],
   "source": [
    "# Your code here \n",
    "A = np.array([[1,2], [4,5]])\n",
    "B = np.array([[6,7], [3,4]])\n",
    "\n",
    "np.transpose(A.dot(B))"
   ]
  },
  {
   "cell_type": "code",
   "execution_count": 33,
   "metadata": {},
   "outputs": [
    {
     "data": {
      "text/plain": [
       "array([[12, 39],\n",
       "       [15, 48]])"
      ]
     },
     "execution_count": 33,
     "metadata": {},
     "output_type": "execute_result"
    }
   ],
   "source": [
    "np.transpose(B).dot(np.transpose(A))"
   ]
  },
  {
   "cell_type": "markdown",
   "metadata": {},
   "source": [
    "## Summary \n",
    "\n",
    "You've seen enough matrix algebra by now to solve a problem of linear equations as you saw earlier. You'll now see how to do this next. "
   ]
  }
 ],
 "metadata": {
  "kernelspec": {
   "display_name": "Python 3",
   "language": "python",
   "name": "python3"
  },
  "language_info": {
   "codemirror_mode": {
    "name": "ipython",
    "version": 3
   },
   "file_extension": ".py",
   "mimetype": "text/x-python",
   "name": "python",
   "nbconvert_exporter": "python",
   "pygments_lexer": "ipython3",
   "version": "3.7.3"
  }
 },
 "nbformat": 4,
 "nbformat_minor": 2
}
